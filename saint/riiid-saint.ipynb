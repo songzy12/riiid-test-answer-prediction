{
 "cells": [
  {
   "cell_type": "markdown",
   "metadata": {},
   "source": [
    "Reference:\n",
    "\n",
    "1. https://arxiv.org/abs/2002.07033\n",
    "2. https://www.kaggle.com/claverru/demystifying-transformers-let-s-make-it-public/execution"
   ]
  },
  {
   "cell_type": "code",
   "execution_count": 1,
   "metadata": {},
   "outputs": [],
   "source": [
    "# Constants to build data frame.\n",
    "\n",
    "dev = True\n",
    "\n",
    "path_questions = \"../input/riiid-test-answer-prediction/questions.csv\"\n",
    "path_train = \"../input/riiid-test-answer-prediction/train.csv\"\n",
    "\n",
    "dtype_questions = {\n",
    "    \"question_id\": \"int32\",\n",
    "    # 'bundle_id': 'int32',\n",
    "    # 'correct_answer': 'int8',\n",
    "    \"part\": \"int8\",\n",
    "    # 'tags': 'object',\n",
    "}\n",
    "dtype_train = {\n",
    "    \"answered_correctly\": \"int8\",\n",
    "    # 'row_id': 'int64',\n",
    "    # 'timestamp': 'int64',\n",
    "    \"user_id\": \"int32\",\n",
    "    \"content_id\": \"int16\",\n",
    "    # 'content_type_id': 'int8',\n",
    "    \"task_container_id\": \"int16\",\n",
    "    # 'user_answer': 'int8',\n",
    "    \"prior_question_elapsed_time\": \"float32\",\n",
    "    # 'prior_question_had_explanation': 'boolean'\n",
    "}"
   ]
  },
  {
   "cell_type": "code",
   "execution_count": 2,
   "metadata": {},
   "outputs": [],
   "source": [
    "# Functions to build data frame.\n",
    "\n",
    "import numpy as np\n",
    "import pandas as pd\n",
    "\n",
    "\n",
    "def get_question_df(path_questions, dtype_questions):\n",
    "    questions = pd.read_csv(\n",
    "        path_questions,\n",
    "        dtype=dtype_questions,\n",
    "        usecols=dtype_questions.keys(),\n",
    "        index_col=\"question_id\",\n",
    "    )\n",
    "    return questions\n",
    "\n",
    "\n",
    "def get_train_df(path_train, dtype_train, dev):\n",
    "    if dev:\n",
    "        df = pd.read_csv(path_train, usecols=dtype_train.keys(),\n",
    "                         dtype=dtype_train, nrows=10**6)\n",
    "        df = df[df.answered_correctly != -1]\n",
    "        df = df.groupby(\"user_id\").head(1500)\n",
    "    else:\n",
    "        df = pd.read_csv(path_train, usecols=dtype_train.keys(),\n",
    "                         dtype=dtype_train, nrows=10 * 10**6)\n",
    "        df = df[df.answered_correctly != -1]\n",
    "        # TODO(songzy): find a better estimation of head number.\n",
    "        df = df.groupby(\"user_id\").head(1500)\n",
    "    return df\n",
    "\n",
    "\n",
    "def transform_questions(questions):\n",
    "    part_ids = questions.part.max() + 1\n",
    "    return questions, part_ids\n",
    "\n",
    "\n",
    "def transform_df(df, questions):\n",
    "    df[\"prior_question_elapsed_time\"] = (\n",
    "        df[\"prior_question_elapsed_time\"].fillna(0).astype(np.float32) / 300000\n",
    "    )\n",
    "    content_ids = questions.index.max() + 2\n",
    "    df = df.join(questions, on=\"content_id\")\n",
    "    df[\"content_id\"] += 1\n",
    "    df[\"task_container_id\"] += 1\n",
    "    task_container_ids = 10001\n",
    "    return df, content_ids, task_container_ids"
   ]
  },
  {
   "cell_type": "code",
   "execution_count": 3,
   "metadata": {},
   "outputs": [],
   "source": [
    "# Builds data frame.\n",
    "\n",
    "questions = get_question_df(path_questions, dtype_questions)\n",
    "df = get_train_df(path_train, dtype_train, dev)\n",
    "\n",
    "questions, part_ids = transform_questions(questions)\n",
    "df, content_ids, task_container_ids = transform_df(df, questions)\n",
    "\n",
    "df = {uid: u.drop(columns=\"user_id\") for uid, u in df.groupby(\"user_id\")}"
   ]
  },
  {
   "cell_type": "code",
   "execution_count": 4,
   "metadata": {},
   "outputs": [],
   "source": [
    "import tensorflow as tf\n",
    "\n",
    "\n",
    "def rolling_window(a, w):\n",
    "    # [1,2,3,4] --- w = 2 --[[1,2], [2,3], [3,4]] but 2D to 3D\n",
    "    s0, s1 = a.strides\n",
    "    m, n = a.shape\n",
    "    return np.lib.stride_tricks.as_strided(\n",
    "        a, shape=(m - w + 1, w, n), strides=(s0, s0, s1)\n",
    "    )\n",
    "\n",
    "\n",
    "def make_time_series(x, windows_size):\n",
    "    x = np.pad(x, [[windows_size - 1, 0], [0, 0]], constant_values=0)\n",
    "    x = rolling_window(x, windows_size)\n",
    "    return x\n",
    "\n",
    "\n",
    "def add_features_to_user(user):\n",
    "    # We add one to the column in order to have zeros as padding values\n",
    "    # Start Of Sentence (SOS) token will be 3.\n",
    "    user[\"answered_correctly\"] = user[\"answered_correctly\"].shift(\n",
    "        fill_value=2) + 1\n",
    "    return user\n",
    "\n",
    "\n",
    "class RiiidSequence(tf.keras.utils.Sequence):\n",
    "    def __init__(self, users, windows_size, batch_size=256, start=0, end=None):\n",
    "        self.users = users  # {'user_id': user_df, ...}\n",
    "        self.windows_size = windows_size\n",
    "        # to convert indices to our keys\n",
    "        self.mapper = dict(zip(range(len(users)), users.keys()))\n",
    "        # start and end to easy generate training and validation\n",
    "        self.start = start\n",
    "        self.end = end if end else len(users)\n",
    "        # To know where the answered_correctly_column is\n",
    "        self.answered_correctly_index = list(self.user_example().columns).index(\n",
    "            \"answered_correctly\"\n",
    "        )\n",
    "\n",
    "    def __len__(self):\n",
    "        return self.end - self.start\n",
    "\n",
    "    def __getitem__(self, idx):\n",
    "        uid = self.mapper[idx + self.start]\n",
    "        user = self.users[uid].copy()\n",
    "        y = user[\"answered_correctly\"].to_numpy().copy()\n",
    "        x = add_features_to_user(user)\n",
    "        return make_time_series(x, self.windows_size), y\n",
    "\n",
    "    def user_example(self):\n",
    "        \"\"\"Just to check what we have till' now.\"\"\"\n",
    "        uid = self.mapper[self.start]\n",
    "        return add_features_to_user(self.users[uid].copy())\n",
    "\n",
    "    # INFERENCE PART\n",
    "    def get_user_for_inference(self, user_row):\n",
    "        \"\"\"Picks a new user row and concats it to previous interactions\n",
    "        if it was already stored.\n",
    "\n",
    "        Maybe the biggest trick in the notebook is here. We reuse the user_id column to\n",
    "        insert the answered_correctly SOS token because we previously placed the column\n",
    "        there on purpose.\n",
    "\n",
    "        After it, we roll that column and then crop it if it was bigger than the window\n",
    "        size, making the SOS token disapear if out of the sequence.\n",
    "\n",
    "        If the sequence if shorter than the window size, then we pad it.\n",
    "        \"\"\"\n",
    "        uid = user_row[self.answered_correctly_index]\n",
    "        user_row[self.answered_correctly_index] = 2  # SOS token\n",
    "        user_row = user_row[np.newaxis, ...]\n",
    "        if uid in self.users:\n",
    "            x = np.concatenate([self.users[uid], user_row])\n",
    "            # same as in training, we need to add one!!!\n",
    "            x[:, self.answered_correctly_index] = (\n",
    "                np.roll(x[:, self.answered_correctly_index], 1) + 1\n",
    "            )\n",
    "        else:\n",
    "            x = user_row\n",
    "\n",
    "        if x.shape[0] < self.windows_size:\n",
    "            return np.pad(x, [[self.windows_size - x.shape[0], 0], [0, 0]])\n",
    "        elif x.shape[0] > self.windows_size:\n",
    "            return x[-self.windows_size:]\n",
    "        else:\n",
    "            return x\n",
    "\n",
    "    def update_user(self, uid, user):\n",
    "        \"\"\"Concat the new user's interactions to the old ones if already stored.\"\"\"\n",
    "        if uid in self.users:\n",
    "            self.users[uid] = np.concatenate([self.users[uid], user])[\n",
    "                -self.windows_size:\n",
    "            ]\n",
    "        else:\n",
    "            self.users[uid] = user"
   ]
  },
  {
   "cell_type": "code",
   "execution_count": 5,
   "metadata": {},
   "outputs": [],
   "source": [
    "# Builds model input.\n",
    "\n",
    "train_idx = int(len(df) * 0.8)\n",
    "windows_size = 64\n",
    "\n",
    "s_train = RiiidSequence(df, windows_size, start=0, end=train_idx)\n",
    "s_val = RiiidSequence(df, windows_size, start=train_idx)"
   ]
  },
  {
   "cell_type": "code",
   "execution_count": 6,
   "metadata": {},
   "outputs": [
    {
     "data": {
      "text/plain": [
       "5"
      ]
     },
     "execution_count": 6,
     "metadata": {},
     "output_type": "execute_result"
    }
   ],
   "source": [
    "sample = s_train[2]\n",
    "x = sample[0]\n",
    "elapsed_time = x[..., 3]\n",
    "x.shape[-1]"
   ]
  },
  {
   "cell_type": "code",
   "execution_count": 7,
   "metadata": {},
   "outputs": [
    {
     "data": {
      "text/plain": [
       "TensorShape([19, 512])"
      ]
     },
     "execution_count": 7,
     "metadata": {},
     "output_type": "execute_result"
    }
   ],
   "source": [
    "elapsed_time_embeddings = tf.keras.layers.Dense(\n",
    "    512, use_bias=False)(\n",
    "    elapsed_time\n",
    ")\n",
    "elapsed_time_embeddings.shape"
   ]
  },
  {
   "cell_type": "code",
   "execution_count": 8,
   "metadata": {},
   "outputs": [],
   "source": [
    "def get_angles(pos, i, d_model):\n",
    "    angle_rates = 1 / np.power(10000, (2 * (i // 2)) / np.float32(d_model))\n",
    "    return pos * angle_rates\n",
    "\n",
    "\n",
    "def positional_encoding(position, d_model):\n",
    "    angle_rads = get_angles(\n",
    "        np.arange(position)[:, np.newaxis], np.arange(\n",
    "            d_model)[np.newaxis, :], d_model\n",
    "    )\n",
    "    angle_rads[:, 0::2] = np.sin(angle_rads[:, 0::2])\n",
    "    angle_rads[:, 1::2] = np.cos(angle_rads[:, 1::2])\n",
    "\n",
    "    pos_encoding = angle_rads[np.newaxis, ...]\n",
    "\n",
    "    return tf.cast(pos_encoding, dtype=tf.float32)\n",
    "\n",
    "\n",
    "def scaled_dot_product_attention(q, k, v, mask):\n",
    "    matmul_qk = tf.matmul(q, k, transpose_b=True)\n",
    "    dk = tf.cast(tf.shape(k)[-1], tf.float32)\n",
    "    scaled_attention_logits = matmul_qk / tf.math.sqrt(dk)\n",
    "    if mask is not None:\n",
    "        scaled_attention_logits += mask * -1e9\n",
    "    attention_weights = tf.nn.softmax(scaled_attention_logits, axis=-1)\n",
    "    output = tf.matmul(attention_weights, v)\n",
    "    return output, attention_weights\n",
    "\n",
    "\n",
    "class MultiHeadAttention(tf.keras.layers.Layer):\n",
    "    def __init__(self, d_model, num_heads):\n",
    "        super(MultiHeadAttention, self).__init__()\n",
    "        self.num_heads = num_heads\n",
    "        self.d_model = d_model\n",
    "\n",
    "        assert d_model % self.num_heads == 0\n",
    "\n",
    "        self.depth = d_model // self.num_heads\n",
    "\n",
    "        self.wq = tf.keras.layers.Dense(d_model)\n",
    "        self.wk = tf.keras.layers.Dense(d_model)\n",
    "        self.wv = tf.keras.layers.Dense(d_model)\n",
    "\n",
    "        self.dense = tf.keras.layers.Dense(d_model)\n",
    "\n",
    "    def split_heads(self, x, batch_size):\n",
    "        x = tf.reshape(x, (batch_size, -1, self.num_heads, self.depth))\n",
    "        return tf.transpose(x, perm=[0, 2, 1, 3])\n",
    "\n",
    "    def call(self, v, k, q, mask):\n",
    "        batch_size = tf.shape(q)[0]\n",
    "        q = self.wq(q)\n",
    "        k = self.wk(k)\n",
    "        v = self.wv(v)\n",
    "\n",
    "        q = self.split_heads(q, batch_size)\n",
    "        k = self.split_heads(k, batch_size)\n",
    "        v = self.split_heads(v, batch_size)\n",
    "\n",
    "        scaled_attention, attention_weights = scaled_dot_product_attention(\n",
    "            q, k, v, mask\n",
    "        )\n",
    "\n",
    "        scaled_attention = tf.transpose(scaled_attention, perm=[0, 2, 1, 3])\n",
    "\n",
    "        concat_attention = tf.reshape(\n",
    "            scaled_attention, (batch_size, -1, self.d_model))\n",
    "\n",
    "        output = self.dense(concat_attention)\n",
    "\n",
    "        return output, attention_weights\n",
    "\n",
    "\n",
    "def point_wise_feed_forward_network(d_model, d_ff):\n",
    "    return tf.keras.Sequential(\n",
    "        [tf.keras.layers.Dense(d_ff, activation=\"relu\"),\n",
    "         tf.keras.layers.Dense(d_model)]\n",
    "    )\n",
    "\n",
    "\n",
    "class EncoderLayer(tf.keras.layers.Layer):\n",
    "    def __init__(self, d_model, num_heads, d_ff, rate=0.1):\n",
    "        super(EncoderLayer, self).__init__()\n",
    "\n",
    "        self.mha = MultiHeadAttention(d_model, num_heads)\n",
    "        self.ffn = point_wise_feed_forward_network(d_model, d_ff)\n",
    "\n",
    "        self.layernorm1 = tf.keras.layers.LayerNormalization(epsilon=1e-6)\n",
    "        self.layernorm2 = tf.keras.layers.LayerNormalization(epsilon=1e-6)\n",
    "\n",
    "        self.dropout1 = tf.keras.layers.Dropout(rate)\n",
    "        self.dropout2 = tf.keras.layers.Dropout(rate)\n",
    "\n",
    "    def call(self, x, mask):\n",
    "\n",
    "        attn_output, _ = self.mha(x, x, x, mask)\n",
    "        attn_output = self.dropout1(attn_output)\n",
    "        out1 = self.layernorm1(x + attn_output)\n",
    "\n",
    "        ffn_output = self.ffn(out1)\n",
    "        ffn_output = self.dropout2(ffn_output)\n",
    "        out2 = self.layernorm2(out1 + ffn_output)\n",
    "\n",
    "        return out2\n",
    "\n",
    "\n",
    "def create_padding_mask(seqs):\n",
    "    # We mask only those vectors of the sequence in which we have all zeroes\n",
    "    # (this is more scalable for some situations).\n",
    "    mask = tf.cast(tf.reduce_all(tf.math.equal(seqs, 0), axis=-1), tf.float32)\n",
    "    # (batch_size, 1, 1, seq_len)\n",
    "    return mask[:, tf.newaxis, tf.newaxis, :]"
   ]
  },
  {
   "cell_type": "code",
   "execution_count": 9,
   "metadata": {},
   "outputs": [],
   "source": [
    "class Encoder(tf.keras.layers.Layer):\n",
    "    def __init__(self, num_layers, d_model, num_heads, d_ff, content_ids, task_container_ids, part_ids,\n",
    "                 windows_size, rate=0.1):\n",
    "        super(Encoder, self).__init__()\n",
    "\n",
    "        self.d_model = d_model\n",
    "        self.num_layers = num_layers\n",
    "\n",
    "        # TODO(songzy): maybe make the dimension from (1, windows_size, d_model) -> (batch_size, windows_size, d_model)\n",
    "        # See: https://www.tensorflow.org/tutorials/customization/custom_layers#implementing_custom_layers.\n",
    "        self.pos_encoding = positional_encoding(windows_size,\n",
    "                                                d_model)\n",
    "        self.content_embeddings = tf.keras.layers.Embedding(\n",
    "            content_ids, d_model)\n",
    "        self.task_embeddings = tf.keras.layers.Embedding(\n",
    "            task_container_ids, d_model)\n",
    "        self.answered_correctly_embeddings = tf.keras.layers.Embedding(\n",
    "            4, d_model)\n",
    "        # TODO(songzy): maybe also use Embedding(1, d_model)\n",
    "        self.elapsed_time_embeddings = tf.keras.layers.Dense(\n",
    "            d_model, use_bias=False)\n",
    "        self.part_embeddings = tf.keras.layers.Embedding(part_ids, d_model)\n",
    "\n",
    "        self.added = tf.keras.layers.Add()\n",
    "\n",
    "        self.enc_layers = [EncoderLayer(d_model, num_heads, d_ff, rate)\n",
    "                           for _ in range(num_layers)]\n",
    "\n",
    "        self.pooling = tf.keras.layers.GlobalAveragePooling1D()\n",
    "        self.dropout = tf.keras.layers.Dropout(rate)\n",
    "\n",
    "    def call(self, inputs, mask):\n",
    "        # Divide branches\n",
    "        content_id = inputs[..., 0]\n",
    "        task_container_id = inputs[..., 1]\n",
    "        answered_correctly = inputs[..., 2]\n",
    "        elapsed_time = inputs[..., 3]\n",
    "        part = inputs[..., 4]\n",
    "\n",
    "        # Create embeddings\n",
    "        content_embeddings = self.content_embeddings(content_id)\n",
    "        task_embeddings = self.task_embeddings(\n",
    "            task_container_id\n",
    "        )\n",
    "        answered_correctly_embeddings = self.answered_correctly_embeddings(\n",
    "            answered_correctly\n",
    "        )\n",
    "        # Continuous! Only a learnable layer for it.\n",
    "        elapsed_time_embeddings = self.elapsed_time_embeddings(\n",
    "            elapsed_time\n",
    "        )\n",
    "        part_embeddings = self.part_embeddings(part)\n",
    "\n",
    "        # Add embeddings\n",
    "        x = self.added(\n",
    "            [\n",
    "                self.pos_encoding,\n",
    "                content_embeddings,\n",
    "                task_embeddings,\n",
    "                answered_correctly_embeddings,\n",
    "                elapsed_time_embeddings,\n",
    "                part_embeddings,\n",
    "            ]\n",
    "        )\n",
    "\n",
    "        for enc_layer in self.enc_layers:\n",
    "            x = enc_layer(x, mask)\n",
    "\n",
    "        x = self.pooling(x)\n",
    "        x = self.dropout(x)\n",
    "        return x  # (batch_size, input_seq_len, d_model)"
   ]
  },
  {
   "cell_type": "code",
   "execution_count": 10,
   "metadata": {},
   "outputs": [],
   "source": [
    "class Transformer(tf.keras.Model):\n",
    "    def __init__(self, num_layers, d_model, num_heads, d_ff, content_ids, task_container_ids, part_ids, windows_size, rate=0.1):\n",
    "        super(Transformer, self).__init__()\n",
    "\n",
    "        self.encoder = Encoder(num_layers, d_model, num_heads, d_ff,\n",
    "                               content_ids, task_container_ids, part_ids, windows_size, rate)\n",
    "        self.final_layer = tf.keras.layers.Dense(\n",
    "            1, activation=\"sigmoid\", name=\"output\")\n",
    "\n",
    "    def call(self, inp):\n",
    "        enc_padding_mask = create_padding_mask(inp)\n",
    "        # (batch_size, inp_seq_len, d_model)\n",
    "        enc_output = self.encoder(inp, enc_padding_mask)\n",
    "        # (batch_size, tar_seq_len, target_vocab_size)\n",
    "        final_output = self.final_layer(enc_output)\n",
    "        return final_output"
   ]
  },
  {
   "cell_type": "code",
   "execution_count": 11,
   "metadata": {},
   "outputs": [],
   "source": [
    "# Builds model.\n",
    "\n",
    "tf.keras.backend.clear_session()\n",
    "\n",
    "model = Transformer(\n",
    "    num_layers=2,\n",
    "    d_model=24,\n",
    "    num_heads=4,\n",
    "    d_ff=96,\n",
    "    content_ids=content_ids, task_container_ids=task_container_ids, part_ids=part_ids,\n",
    "    windows_size=windows_size\n",
    ")\n",
    "\n",
    "model.compile(\n",
    "    optimizer=\"adam\",\n",
    "    loss=\"binary_crossentropy\",\n",
    "    metrics=[\n",
    "        tf.keras.metrics.AUC(name=\"AUC\"),\n",
    "        tf.keras.metrics.BinaryAccuracy(name=\"acc\"),\n",
    "    ],\n",
    ")\n",
    "\n",
    "# tf.keras.utils.plot_model(model)"
   ]
  },
  {
   "cell_type": "code",
   "execution_count": 12,
   "metadata": {},
   "outputs": [
    {
     "data": {
      "text/plain": [
       "<tf.Tensor: shape=(1, 1), dtype=float32, numpy=array([[0.09976396]], dtype=float32)>"
      ]
     },
     "execution_count": 12,
     "metadata": {},
     "output_type": "execute_result"
    }
   ],
   "source": [
    "# TODO(songzy): find a better way to specify the input shape.\n",
    "sample_input = tf.ones((1, 64, 5))\n",
    "model(sample_input)"
   ]
  },
  {
   "cell_type": "code",
   "execution_count": 13,
   "metadata": {},
   "outputs": [
    {
     "name": "stdout",
     "output_type": "stream",
     "text": [
      "Model: \"transformer\"\n",
      "_________________________________________________________________\n",
      "Layer (type)                 Output Shape              Param #   \n",
      "=================================================================\n",
      "encoder (Encoder)            multiple                  580872    \n",
      "_________________________________________________________________\n",
      "output (Dense)               multiple                  25        \n",
      "=================================================================\n",
      "Total params: 580,897\n",
      "Trainable params: 580,897\n",
      "Non-trainable params: 0\n",
      "_________________________________________________________________\n"
     ]
    }
   ],
   "source": [
    "model.summary()"
   ]
  },
  {
   "cell_type": "code",
   "execution_count": 14,
   "metadata": {},
   "outputs": [
    {
     "name": "stdout",
     "output_type": "stream",
     "text": [
      "2021-01-10 20:49:00.130932\n"
     ]
    }
   ],
   "source": [
    "import datetime\n",
    "\n",
    "print(datetime.datetime.now())"
   ]
  },
  {
   "cell_type": "code",
   "execution_count": 15,
   "metadata": {
    "scrolled": false
   },
   "outputs": [
    {
     "name": "stdout",
     "output_type": "stream",
     "text": [
      "WARNING:tensorflow:multiprocessing can interact badly with TensorFlow, causing nondeterministic deadlocks. For high performance data pipelines tf.data is recommended.\n",
      "3058/3059 [============================>.] - ETA: 0s - loss: 0.6511 - AUC: 0.5746 - acc: 0.6489WARNING:tensorflow:multiprocessing can interact badly with TensorFlow, causing nondeterministic deadlocks. For high performance data pipelines tf.data is recommended.\n",
      "WARNING:tensorflow:multiprocessing can interact badly with TensorFlow, causing nondeterministic deadlocks. For high performance data pipelines tf.data is recommended.\n",
      "3059/3059 [==============================] - 691s 224ms/step - loss: 0.6511 - AUC: 0.5746 - acc: 0.6489 - val_loss: 0.5933 - val_AUC: 0.7084 - val_acc: 0.6841\n"
     ]
    }
   ],
   "source": [
    "# Trains model.\n",
    "\n",
    "if dev:\n",
    "    epochs = 1\n",
    "else:\n",
    "    epochs = 300\n",
    "patience = 2\n",
    "\n",
    "model.fit(\n",
    "    s_train,\n",
    "    validation_data=s_val,\n",
    "    epochs=epochs,\n",
    "    workers=4,\n",
    "    shuffle=True,\n",
    "    use_multiprocessing=True,\n",
    "    callbacks=tf.keras.callbacks.EarlyStopping(\n",
    "        patience=patience, monitor=\"val_AUC\", mode=\"max\", restore_best_weights=True\n",
    "    ),\n",
    "    verbose=1,\n",
    ")\n",
    "model.save_weights(\"model.h5\")"
   ]
  },
  {
   "cell_type": "code",
   "execution_count": 16,
   "metadata": {},
   "outputs": [
    {
     "name": "stdout",
     "output_type": "stream",
     "text": [
      "2021-01-10 21:00:31.384120\n"
     ]
    }
   ],
   "source": [
    "import datetime\n",
    "\n",
    "print(datetime.datetime.now())"
   ]
  },
  {
   "cell_type": "code",
   "execution_count": 17,
   "metadata": {},
   "outputs": [
    {
     "data": {
      "text/plain": [
       "91"
      ]
     },
     "execution_count": 17,
     "metadata": {},
     "output_type": "execute_result"
    }
   ],
   "source": [
    "import gc\n",
    "\n",
    "del s_val\n",
    "gc.collect()"
   ]
  },
  {
   "cell_type": "code",
   "execution_count": 18,
   "metadata": {},
   "outputs": [
    {
     "ename": "ModuleNotFoundError",
     "evalue": "No module named 'riiideducation'",
     "output_type": "error",
     "traceback": [
      "\u001b[0;31m---------------------------------------------------------------------------\u001b[0m",
      "\u001b[0;31mModuleNotFoundError\u001b[0m                       Traceback (most recent call last)",
      "\u001b[0;32m<ipython-input-18-2b4a2d6023d5>\u001b[0m in \u001b[0;36m<module>\u001b[0;34m\u001b[0m\n\u001b[0;32m----> 1\u001b[0;31m \u001b[0;32mimport\u001b[0m \u001b[0mriiideducation\u001b[0m\u001b[0;34m\u001b[0m\u001b[0;34m\u001b[0m\u001b[0m\n\u001b[0m\u001b[1;32m      2\u001b[0m \u001b[0;34m\u001b[0m\u001b[0m\n\u001b[1;32m      3\u001b[0m \u001b[0menv\u001b[0m \u001b[0;34m=\u001b[0m \u001b[0mriiideducation\u001b[0m\u001b[0;34m.\u001b[0m\u001b[0mmake_env\u001b[0m\u001b[0;34m(\u001b[0m\u001b[0;34m)\u001b[0m\u001b[0;34m\u001b[0m\u001b[0;34m\u001b[0m\u001b[0m\n\u001b[1;32m      4\u001b[0m \u001b[0miter_test\u001b[0m \u001b[0;34m=\u001b[0m \u001b[0menv\u001b[0m\u001b[0;34m.\u001b[0m\u001b[0miter_test\u001b[0m\u001b[0;34m(\u001b[0m\u001b[0;34m)\u001b[0m\u001b[0;34m\u001b[0m\u001b[0;34m\u001b[0m\u001b[0m\n",
      "\u001b[0;31mModuleNotFoundError\u001b[0m: No module named 'riiideducation'"
     ]
    }
   ],
   "source": [
    "import riiideducation\n",
    "\n",
    "env = riiideducation.make_env()\n",
    "iter_test = env.iter_test()"
   ]
  },
  {
   "cell_type": "code",
   "execution_count": null,
   "metadata": {},
   "outputs": [],
   "source": [
    "columns = list(RiiidSequence(df, windows_size).user_example().columns)\n",
    "columns[columns.index('answered_correctly')] = 'user_id'\n",
    "columns = [c for c in columns if c not in questions.columns] + ['row_id']"
   ]
  },
  {
   "cell_type": "code",
   "execution_count": null,
   "metadata": {},
   "outputs": [],
   "source": [
    "for test, sample_prediction in iter_test:\n",
    "    try:\n",
    "        prior_correct = eval(test['prior_group_answers_correct'].iloc[0])\n",
    "        prior_correct = [a for a in prior_correct if a != -1]\n",
    "    except:\n",
    "        prior_correct = []\n",
    "\n",
    "    # Add prior correct to test and update stored users\n",
    "    if prior_correct:\n",
    "        prior_test.insert(s_train.answered_correctly_index,\n",
    "                          'answered_correctly', prior_correct)\n",
    "        for uid, user in prior_test.groupby('user_id'):\n",
    "            s_train.update_user(\n",
    "                uid, user.drop(columns='user_id').to_numpy())\n",
    "\n",
    "    # Filter test\n",
    "    test = test.loc[\n",
    "        test['content_type_id'] == 0,\n",
    "        columns\n",
    "    ]\n",
    "\n",
    "    # Add global features\n",
    "    test, _, _ = transform_df(test, questions)\n",
    "\n",
    "    # Save test for later\n",
    "    prior_test = test.drop(columns='row_id').copy()\n",
    "\n",
    "    # Make x\n",
    "    x = np.apply_along_axis(\n",
    "        s_train.get_user_for_inference,\n",
    "        1,\n",
    "        test.drop(columns='row_id').to_numpy()\n",
    "    )\n",
    "\n",
    "    # Predict\n",
    "    test['answered_correctly'] = model.predict(x, batch_size=x.shape[0])\n",
    "\n",
    "    env.predict(test[['row_id', 'answered_correctly']])"
   ]
  }
 ],
 "metadata": {
  "kernelspec": {
   "display_name": "Python 3",
   "language": "python",
   "name": "python3"
  },
  "language_info": {
   "codemirror_mode": {
    "name": "ipython",
    "version": 3
   },
   "file_extension": ".py",
   "mimetype": "text/x-python",
   "name": "python",
   "nbconvert_exporter": "python",
   "pygments_lexer": "ipython3",
   "version": "3.8.5"
  }
 },
 "nbformat": 4,
 "nbformat_minor": 4
}
