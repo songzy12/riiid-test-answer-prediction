{
 "cells": [
  {
   "cell_type": "code",
   "execution_count": 1,
   "metadata": {
    "_cell_guid": "b1076dfc-b9ad-4769-8c92-a6c4dae69d19",
    "_uuid": "8f2839f25d086af736a60e9eeb907d3b93b6e0e5"
   },
   "outputs": [],
   "source": [
    "import pandas as pd\n",
    "import numpy as np\n",
    "\n",
    "from sklearn.metrics import roc_auc_score\n",
    "from sklearn.preprocessing import LabelEncoder\n",
    "from sklearn.tree import DecisionTreeClassifier\n",
    "from sklearn.model_selection import train_test_split\n",
    "\n",
    "import lightgbm as lgb"
   ]
  },
  {
   "cell_type": "code",
   "execution_count": 2,
   "metadata": {},
   "outputs": [],
   "source": [
    "train = pd.read_csv('../input/riiid-test-answer-prediction/train.csv',\n",
    "                    usecols=[1, 2, 3, 4, 7, 8, 9], dtype={'timestamp': 'int64', 'user_id': 'int32', 'content_id': 'int16', 'content_type_id': 'int8', 'answered_correctly': 'int8', 'prior_question_elapsed_time': 'float32', 'prior_question_had_explanation': 'boolean'}\n",
    "                    )\n",
    "\n",
    "train = train[train.content_type_id == False]\n",
    "train = train.sort_values(['timestamp'], ascending=True)\n",
    "train.drop(['timestamp', 'content_type_id'], axis=1,   inplace=True)"
   ]
  },
  {
   "cell_type": "code",
   "execution_count": 3,
   "metadata": {},
   "outputs": [],
   "source": [
    "results_c = train[['content_id', 'answered_correctly']\n",
    "                  ].groupby(['content_id']).agg(['mean'])\n",
    "results_c.columns = [\"answered_correctly_content\"]\n",
    "\n",
    "results_u = train[['user_id', 'answered_correctly']].groupby(['user_id']).agg([\n",
    "    'mean', 'sum'])\n",
    "results_u.columns = [\"answered_correctly_user\", 'sum']"
   ]
  },
  {
   "cell_type": "code",
   "execution_count": 4,
   "metadata": {
    "_cell_guid": "79c7e3d0-c299-4dcb-8224-4455121ee9b0",
    "_uuid": "d629ff2d2480ee46fbb7e2d37f6b5fab8052498a"
   },
   "outputs": [],
   "source": [
    "X = train.iloc[90000000:, :]\n",
    "X = X[X.answered_correctly != -1]\n",
    "Y = X[[\"answered_correctly\"]]\n",
    "X = X.drop([\"answered_correctly\"], axis=1)"
   ]
  },
  {
   "cell_type": "code",
   "execution_count": 5,
   "metadata": {},
   "outputs": [
    {
     "data": {
      "text/html": [
       "<div>\n",
       "<style scoped>\n",
       "    .dataframe tbody tr th:only-of-type {\n",
       "        vertical-align: middle;\n",
       "    }\n",
       "\n",
       "    .dataframe tbody tr th {\n",
       "        vertical-align: top;\n",
       "    }\n",
       "\n",
       "    .dataframe thead th {\n",
       "        text-align: right;\n",
       "    }\n",
       "</style>\n",
       "<table border=\"1\" class=\"dataframe\">\n",
       "  <thead>\n",
       "    <tr style=\"text-align: right;\">\n",
       "      <th></th>\n",
       "      <th>answered_correctly_user</th>\n",
       "      <th>answered_correctly_content</th>\n",
       "      <th>sum</th>\n",
       "      <th>prior_question_elapsed_time</th>\n",
       "      <th>prior_question_had_explanation_enc</th>\n",
       "    </tr>\n",
       "  </thead>\n",
       "  <tbody>\n",
       "    <tr>\n",
       "      <th>1119023</th>\n",
       "      <td>0.713628</td>\n",
       "      <td>0.426790</td>\n",
       "      <td>775.0</td>\n",
       "      <td>16000.0</td>\n",
       "      <td>1</td>\n",
       "    </tr>\n",
       "    <tr>\n",
       "      <th>1119056</th>\n",
       "      <td>0.713628</td>\n",
       "      <td>0.430757</td>\n",
       "      <td>775.0</td>\n",
       "      <td>22000.0</td>\n",
       "      <td>1</td>\n",
       "    </tr>\n",
       "    <tr>\n",
       "      <th>1119070</th>\n",
       "      <td>0.713628</td>\n",
       "      <td>0.421442</td>\n",
       "      <td>775.0</td>\n",
       "      <td>27000.0</td>\n",
       "      <td>1</td>\n",
       "    </tr>\n",
       "    <tr>\n",
       "      <th>1119081</th>\n",
       "      <td>0.713628</td>\n",
       "      <td>0.469838</td>\n",
       "      <td>775.0</td>\n",
       "      <td>14000.0</td>\n",
       "      <td>1</td>\n",
       "    </tr>\n",
       "    <tr>\n",
       "      <th>1119089</th>\n",
       "      <td>0.713628</td>\n",
       "      <td>0.752486</td>\n",
       "      <td>775.0</td>\n",
       "      <td>8000.0</td>\n",
       "      <td>1</td>\n",
       "    </tr>\n",
       "  </tbody>\n",
       "</table>\n",
       "</div>"
      ],
      "text/plain": [
       "         answered_correctly_user  answered_correctly_content    sum  \\\n",
       "1119023                 0.713628                    0.426790  775.0   \n",
       "1119056                 0.713628                    0.430757  775.0   \n",
       "1119070                 0.713628                    0.421442  775.0   \n",
       "1119081                 0.713628                    0.469838  775.0   \n",
       "1119089                 0.713628                    0.752486  775.0   \n",
       "\n",
       "         prior_question_elapsed_time  prior_question_had_explanation_enc  \n",
       "1119023                      16000.0                                   1  \n",
       "1119056                      22000.0                                   1  \n",
       "1119070                      27000.0                                   1  \n",
       "1119081                      14000.0                                   1  \n",
       "1119089                       8000.0                                   1  "
      ]
     },
     "execution_count": 5,
     "metadata": {},
     "output_type": "execute_result"
    }
   ],
   "source": [
    "lb_make = LabelEncoder()\n",
    "X[\"prior_question_had_explanation_enc\"] = lb_make.fit_transform(\n",
    "    X[\"prior_question_had_explanation\"])\n",
    "\n",
    "X = pd.merge(X, results_u, on=['user_id'], how=\"left\")\n",
    "X = pd.merge(X, results_c, on=['content_id'], how=\"left\")\n",
    "X = X.sort_values(['user_id'])\n",
    "\n",
    "X = X[['answered_correctly_user', 'answered_correctly_content', 'sum',\n",
    "       'prior_question_elapsed_time', 'prior_question_had_explanation_enc']]\n",
    "X.fillna(0.5,  inplace=True)\n",
    "\n",
    "X.head()"
   ]
  },
  {
   "cell_type": "code",
   "execution_count": 6,
   "metadata": {},
   "outputs": [],
   "source": [
    "Xt, Xv, Yt, Yv = train_test_split(X, Y, test_size=0.01, shuffle=False)\n",
    "lgb_train = lgb.Dataset(Xt, Yt)\n",
    "lgb_eval = lgb.Dataset(Xv, Yv, reference=lgb_train)"
   ]
  },
  {
   "cell_type": "code",
   "execution_count": 7,
   "metadata": {},
   "outputs": [
    {
     "name": "stdout",
     "output_type": "stream",
     "text": [
      "[LightGBM] [Info] Number of positive: 6232547, number of negative: 2946040\n",
      "[LightGBM] [Warning] Auto-choosing row-wise multi-threading, the overhead of testing was 0.096597 seconds.\n",
      "You can set `force_row_wise=true` to remove the overhead.\n",
      "And if memory is not enough, you can set `force_col_wise=true`.\n",
      "[LightGBM] [Info] Total Bins 2372\n",
      "[LightGBM] [Info] Number of data points in the train set: 9178587, number of used features: 5\n",
      "[LightGBM] [Info] [binary:BoostFromScore]: pavg=0.679031 -> initscore=0.749323\n",
      "[LightGBM] [Info] Start training from score 0.749323\n",
      "Training until validation scores don't improve for 10 rounds\n",
      "[10]\ttraining's binary_logloss: 0.62756\tvalid_1's binary_logloss: 0.624695\n",
      "[20]\ttraining's binary_logloss: 0.62753\tvalid_1's binary_logloss: 0.62469\n",
      "[30]\ttraining's binary_logloss: 0.627503\tvalid_1's binary_logloss: 0.624688\n",
      "[40]\ttraining's binary_logloss: 0.627478\tvalid_1's binary_logloss: 0.624686\n",
      "[50]\ttraining's binary_logloss: 0.627458\tvalid_1's binary_logloss: 0.624684\n",
      "[60]\ttraining's binary_logloss: 0.627439\tvalid_1's binary_logloss: 0.624678\n",
      "[70]\ttraining's binary_logloss: 0.627422\tvalid_1's binary_logloss: 0.624677\n",
      "Early stopping, best iteration is:\n",
      "[65]\ttraining's binary_logloss: 0.627431\tvalid_1's binary_logloss: 0.624676\n"
     ]
    }
   ],
   "source": [
    "params = {\n",
    "    'objective': 'binary',\n",
    "    'max_bin': 600,\n",
    "    'learning_rate': 0.01,\n",
    "    'num_leaves': 80\n",
    "}\n",
    "\n",
    "model = lgb.train(\n",
    "    params, lgb_train,\n",
    "    valid_sets=[lgb_train, lgb_eval],\n",
    "    verbose_eval=10,\n",
    "    num_boost_round=10000,\n",
    "    early_stopping_rounds=10\n",
    ")"
   ]
  },
  {
   "cell_type": "code",
   "execution_count": 8,
   "metadata": {},
   "outputs": [
    {
     "data": {
      "text/plain": [
       "0.5051506518468748"
      ]
     },
     "execution_count": 8,
     "metadata": {},
     "output_type": "execute_result"
    }
   ],
   "source": [
    "y_pred = model.predict(Xv)\n",
    "y_true = np.array(Yv)\n",
    "\n",
    "roc_auc_score(y_true, y_pred)"
   ]
  },
  {
   "cell_type": "code",
   "execution_count": 9,
   "metadata": {},
   "outputs": [],
   "source": [
    "test = pd.read_csv('../input/riiid-test-answer-prediction/example_test.csv')\n",
    "\n",
    "test[\"prior_question_had_explanation_enc\"] = lb_make.fit_transform(\n",
    "    test[\"prior_question_had_explanation\"])\n",
    "\n",
    "test = pd.merge(test, results_u, on=['user_id'],  how=\"left\")\n",
    "test = pd.merge(test, results_c, on=['content_id'],  how=\"left\")\n",
    "\n",
    "test = test[['answered_correctly_user', 'answered_correctly_content', 'sum',\n",
    "             'prior_question_elapsed_time', 'prior_question_had_explanation_enc']]\n",
    "test.fillna(0.5, inplace=True)\n",
    "\n",
    "y_pred = model.predict(test)\n",
    "test['answered_correctly'] = y_pred"
   ]
  },
  {
   "cell_type": "code",
   "execution_count": 10,
   "metadata": {},
   "outputs": [
    {
     "ename": "ModuleNotFoundError",
     "evalue": "No module named 'riiideducation.competition'",
     "output_type": "error",
     "traceback": [
      "\u001b[0;31m---------------------------------------------------------------------------\u001b[0m",
      "\u001b[0;31mModuleNotFoundError\u001b[0m                       Traceback (most recent call last)",
      "\u001b[0;32m<ipython-input-10-a9b91f6c3e0e>\u001b[0m in \u001b[0;36m<module>\u001b[0;34m\u001b[0m\n\u001b[0;32m----> 1\u001b[0;31m \u001b[0;32mimport\u001b[0m \u001b[0mriiideducation\u001b[0m\u001b[0;34m\u001b[0m\u001b[0;34m\u001b[0m\u001b[0m\n\u001b[0m\u001b[1;32m      2\u001b[0m \u001b[0menv\u001b[0m \u001b[0;34m=\u001b[0m \u001b[0mriiideducation\u001b[0m\u001b[0;34m.\u001b[0m\u001b[0mmake_env\u001b[0m\u001b[0;34m(\u001b[0m\u001b[0;34m)\u001b[0m\u001b[0;34m\u001b[0m\u001b[0;34m\u001b[0m\u001b[0m\n\u001b[1;32m      3\u001b[0m \u001b[0miter_test\u001b[0m \u001b[0;34m=\u001b[0m \u001b[0menv\u001b[0m\u001b[0;34m.\u001b[0m\u001b[0miter_test\u001b[0m\u001b[0;34m(\u001b[0m\u001b[0;34m)\u001b[0m\u001b[0;34m\u001b[0m\u001b[0;34m\u001b[0m\u001b[0m\n\u001b[1;32m      4\u001b[0m \u001b[0;34m\u001b[0m\u001b[0m\n\u001b[1;32m      5\u001b[0m \u001b[0;32mfor\u001b[0m \u001b[0;34m(\u001b[0m\u001b[0mtest_df\u001b[0m\u001b[0;34m,\u001b[0m \u001b[0msample_prediction_df\u001b[0m\u001b[0;34m)\u001b[0m \u001b[0;32min\u001b[0m \u001b[0miter_test\u001b[0m\u001b[0;34m:\u001b[0m\u001b[0;34m\u001b[0m\u001b[0;34m\u001b[0m\u001b[0m\n",
      "\u001b[0;32m~/riiid_answer_correctness_prediction/notebook/riiideducation/__init__.py\u001b[0m in \u001b[0;36m<module>\u001b[0;34m\u001b[0m\n\u001b[1;32m      1\u001b[0m \u001b[0;34m\u001b[0m\u001b[0m\n\u001b[0;32m----> 2\u001b[0;31m \u001b[0;32mfrom\u001b[0m \u001b[0;34m.\u001b[0m\u001b[0mcompetition\u001b[0m \u001b[0;32mimport\u001b[0m \u001b[0mmake_env\u001b[0m\u001b[0;34m\u001b[0m\u001b[0;34m\u001b[0m\u001b[0m\n\u001b[0m\u001b[1;32m      3\u001b[0m \u001b[0;34m\u001b[0m\u001b[0m\n\u001b[1;32m      4\u001b[0m \u001b[0m__all__\u001b[0m \u001b[0;34m=\u001b[0m \u001b[0;34m[\u001b[0m\u001b[0;34m'make_env'\u001b[0m\u001b[0;34m]\u001b[0m\u001b[0;34m\u001b[0m\u001b[0;34m\u001b[0m\u001b[0m\n",
      "\u001b[0;31mModuleNotFoundError\u001b[0m: No module named 'riiideducation.competition'"
     ]
    }
   ],
   "source": [
    "import riiideducation\n",
    "env = riiideducation.make_env()\n",
    "iter_test = env.iter_test()\n",
    "\n",
    "for (test_df, sample_prediction_df) in iter_test:\n",
    "    test_df = pd.merge(test_df, results_u, on=['user_id'],  how=\"left\")\n",
    "    test_df = pd.merge(test_df, results_c, on=['content_id'],  how=\"left\")\n",
    "    test_df['answered_correctly_user'].fillna(0.5, inplace=True)\n",
    "    test_df['answered_correctly_content'].fillna(0.5, inplace=True)\n",
    "    test_df['sum'].fillna(0, inplace=True)\n",
    "    test_df['prior_question_had_explanation'].fillna(False, inplace=True)\n",
    "    test_df[\"prior_question_had_explanation_enc\"] = lb_make.fit_transform(\n",
    "        test_df[\"prior_question_had_explanation\"])\n",
    "    test_df['answered_correctly'] = model.predict(\n",
    "        test_df[['answered_correctly_user', 'answered_correctly_content', 'sum', 'prior_question_elapsed_time', 'prior_question_had_explanation_enc']])\n",
    "    env.predict(test_df.loc[test_df['content_type_id']\n",
    "                            == 0, ['row_id', 'answered_correctly']])"
   ]
  }
 ],
 "metadata": {
  "kernelspec": {
   "display_name": "Python 3",
   "language": "python",
   "name": "python3"
  },
  "language_info": {
   "codemirror_mode": {
    "name": "ipython",
    "version": 3
   },
   "file_extension": ".py",
   "mimetype": "text/x-python",
   "name": "python",
   "nbconvert_exporter": "python",
   "pygments_lexer": "ipython3",
   "version": "3.8.5"
  }
 },
 "nbformat": 4,
 "nbformat_minor": 4
}
