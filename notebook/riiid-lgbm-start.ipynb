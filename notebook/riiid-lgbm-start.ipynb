{
 "cells": [
  {
   "cell_type": "code",
   "execution_count": 1,
   "metadata": {
    "_cell_guid": "b1076dfc-b9ad-4769-8c92-a6c4dae69d19",
    "_uuid": "8f2839f25d086af736a60e9eeb907d3b93b6e0e5"
   },
   "outputs": [],
   "source": [
    "# Used most of coding from this kernel https://www.kaggle.com/lgreig/simple-lgbm-baseline\n",
    "\n",
    "import pandas as pd\n",
    "import numpy as np\n",
    "from sklearn.metrics import roc_auc_score"
   ]
  },
  {
   "cell_type": "code",
   "execution_count": 2,
   "metadata": {},
   "outputs": [],
   "source": [
    "train= pd.read_csv('../input/riiid-test-answer-prediction/train.csv',\n",
    "                usecols=[1, 2, 3,4,7,8,9], dtype={'timestamp': 'int64', 'user_id': 'int32' ,'content_id': 'int16','content_type_id': 'int8','answered_correctly':'int8','prior_question_elapsed_time': 'float32','prior_question_had_explanation': 'boolean'}\n",
    "              )\n",
    "train = train[train.content_type_id == False]\n",
    "#arrange by timestamp\n",
    "train = train.sort_values(['timestamp'], ascending=True)\n",
    "\n",
    "train.drop(['timestamp','content_type_id'], axis=1,   inplace=True)\n",
    "\n",
    "results_c = train[['content_id','answered_correctly']].groupby(['content_id']).agg(['mean'])\n",
    "results_c.columns = [\"answered_correctly_content\"]\n",
    "\n",
    "results_u = train[['user_id','answered_correctly']].groupby(['user_id']).agg(['mean', 'sum'])\n",
    "results_u.columns = [\"answered_correctly_user\", 'sum']"
   ]
  },
  {
   "cell_type": "code",
   "execution_count": 3,
   "metadata": {
    "_cell_guid": "79c7e3d0-c299-4dcb-8224-4455121ee9b0",
    "_uuid": "d629ff2d2480ee46fbb7e2d37f6b5fab8052498a"
   },
   "outputs": [],
   "source": [
    "X = train.iloc[90000000:,:]\n",
    "X = pd.merge(X, results_u, on=['user_id'], how=\"left\")\n",
    "X = pd.merge(X, results_c, on=['content_id'], how=\"left\")\n",
    "X=X[X.answered_correctly!= -1 ]\n",
    "X=X.sort_values(['user_id'])\n",
    "Y = X[[\"answered_correctly\"]]\n",
    "X = X.drop([\"answered_correctly\"], axis=1)"
   ]
  },
  {
   "cell_type": "code",
   "execution_count": 4,
   "metadata": {},
   "outputs": [
    {
     "name": "stdout",
     "output_type": "stream",
     "text": [
      "[LightGBM] [Info] Number of positive: 6231170, number of negative: 2947417\n",
      "[LightGBM] [Warning] Auto-choosing row-wise multi-threading, the overhead of testing was 0.080753 seconds.\n",
      "You can set `force_row_wise=true` to remove the overhead.\n",
      "And if memory is not enough, you can set `force_col_wise=true`.\n",
      "[LightGBM] [Info] Total Bins 2372\n",
      "[LightGBM] [Info] Number of data points in the train set: 9178587, number of used features: 5\n",
      "[LightGBM] [Info] [binary:BoostFromScore]: pavg=0.678881 -> initscore=0.748635\n",
      "[LightGBM] [Info] Start training from score 0.748635\n",
      "Training until validation scores don't improve for 10 rounds\n",
      "[10]\ttraining's binary_logloss: 0.611749\tvalid_1's binary_logloss: 0.59721\n",
      "[20]\ttraining's binary_logloss: 0.598724\tvalid_1's binary_logloss: 0.583777\n",
      "[30]\ttraining's binary_logloss: 0.587987\tvalid_1's binary_logloss: 0.572618\n",
      "[40]\ttraining's binary_logloss: 0.57907\tvalid_1's binary_logloss: 0.563301\n",
      "[50]\ttraining's binary_logloss: 0.57163\tvalid_1's binary_logloss: 0.555486\n",
      "[60]\ttraining's binary_logloss: 0.5654\tvalid_1's binary_logloss: 0.548917\n",
      "[70]\ttraining's binary_logloss: 0.560162\tvalid_1's binary_logloss: 0.543378\n",
      "[80]\ttraining's binary_logloss: 0.555749\tvalid_1's binary_logloss: 0.538692\n",
      "[90]\ttraining's binary_logloss: 0.552021\tvalid_1's binary_logloss: 0.534694\n",
      "[100]\ttraining's binary_logloss: 0.54887\tvalid_1's binary_logloss: 0.531291\n",
      "[110]\ttraining's binary_logloss: 0.546201\tvalid_1's binary_logloss: 0.528383\n",
      "[120]\ttraining's binary_logloss: 0.543931\tvalid_1's binary_logloss: 0.525863\n",
      "[130]\ttraining's binary_logloss: 0.542005\tvalid_1's binary_logloss: 0.523727\n",
      "[140]\ttraining's binary_logloss: 0.540371\tvalid_1's binary_logloss: 0.521904\n",
      "[150]\ttraining's binary_logloss: 0.538975\tvalid_1's binary_logloss: 0.520345\n",
      "[160]\ttraining's binary_logloss: 0.537787\tvalid_1's binary_logloss: 0.518979\n",
      "[170]\ttraining's binary_logloss: 0.536774\tvalid_1's binary_logloss: 0.517808\n",
      "[180]\ttraining's binary_logloss: 0.535912\tvalid_1's binary_logloss: 0.51681\n",
      "[190]\ttraining's binary_logloss: 0.535177\tvalid_1's binary_logloss: 0.515955\n",
      "[200]\ttraining's binary_logloss: 0.534549\tvalid_1's binary_logloss: 0.515219\n",
      "[210]\ttraining's binary_logloss: 0.534011\tvalid_1's binary_logloss: 0.514591\n",
      "[220]\ttraining's binary_logloss: 0.533547\tvalid_1's binary_logloss: 0.514027\n",
      "[230]\ttraining's binary_logloss: 0.533148\tvalid_1's binary_logloss: 0.513557\n",
      "[240]\ttraining's binary_logloss: 0.532806\tvalid_1's binary_logloss: 0.513146\n",
      "[250]\ttraining's binary_logloss: 0.532511\tvalid_1's binary_logloss: 0.512793\n",
      "[260]\ttraining's binary_logloss: 0.532255\tvalid_1's binary_logloss: 0.512486\n",
      "[270]\ttraining's binary_logloss: 0.532031\tvalid_1's binary_logloss: 0.512222\n",
      "[280]\ttraining's binary_logloss: 0.531834\tvalid_1's binary_logloss: 0.512001\n",
      "[290]\ttraining's binary_logloss: 0.531663\tvalid_1's binary_logloss: 0.511808\n",
      "[300]\ttraining's binary_logloss: 0.531512\tvalid_1's binary_logloss: 0.511639\n",
      "[310]\ttraining's binary_logloss: 0.531379\tvalid_1's binary_logloss: 0.511492\n",
      "[320]\ttraining's binary_logloss: 0.531261\tvalid_1's binary_logloss: 0.511366\n",
      "[330]\ttraining's binary_logloss: 0.531159\tvalid_1's binary_logloss: 0.511256\n",
      "[340]\ttraining's binary_logloss: 0.531068\tvalid_1's binary_logloss: 0.511158\n",
      "[350]\ttraining's binary_logloss: 0.530985\tvalid_1's binary_logloss: 0.511068\n",
      "[360]\ttraining's binary_logloss: 0.530908\tvalid_1's binary_logloss: 0.510989\n",
      "[370]\ttraining's binary_logloss: 0.530838\tvalid_1's binary_logloss: 0.510923\n",
      "[380]\ttraining's binary_logloss: 0.530773\tvalid_1's binary_logloss: 0.510864\n",
      "[390]\ttraining's binary_logloss: 0.530714\tvalid_1's binary_logloss: 0.510804\n",
      "[400]\ttraining's binary_logloss: 0.530659\tvalid_1's binary_logloss: 0.510754\n",
      "[410]\ttraining's binary_logloss: 0.53061\tvalid_1's binary_logloss: 0.510721\n",
      "[420]\ttraining's binary_logloss: 0.530563\tvalid_1's binary_logloss: 0.510693\n",
      "[430]\ttraining's binary_logloss: 0.530518\tvalid_1's binary_logloss: 0.510668\n",
      "[440]\ttraining's binary_logloss: 0.530475\tvalid_1's binary_logloss: 0.510646\n",
      "[450]\ttraining's binary_logloss: 0.530438\tvalid_1's binary_logloss: 0.510627\n",
      "[460]\ttraining's binary_logloss: 0.530398\tvalid_1's binary_logloss: 0.510613\n",
      "[470]\ttraining's binary_logloss: 0.530362\tvalid_1's binary_logloss: 0.510591\n",
      "[480]\ttraining's binary_logloss: 0.530327\tvalid_1's binary_logloss: 0.510567\n",
      "[490]\ttraining's binary_logloss: 0.530293\tvalid_1's binary_logloss: 0.510549\n",
      "[500]\ttraining's binary_logloss: 0.53026\tvalid_1's binary_logloss: 0.510532\n",
      "[510]\ttraining's binary_logloss: 0.530227\tvalid_1's binary_logloss: 0.510521\n",
      "[520]\ttraining's binary_logloss: 0.530195\tvalid_1's binary_logloss: 0.510505\n",
      "[530]\ttraining's binary_logloss: 0.530164\tvalid_1's binary_logloss: 0.510494\n",
      "[540]\ttraining's binary_logloss: 0.530133\tvalid_1's binary_logloss: 0.51048\n",
      "[550]\ttraining's binary_logloss: 0.530103\tvalid_1's binary_logloss: 0.510469\n",
      "[560]\ttraining's binary_logloss: 0.530076\tvalid_1's binary_logloss: 0.510453\n",
      "[570]\ttraining's binary_logloss: 0.530046\tvalid_1's binary_logloss: 0.510445\n",
      "[580]\ttraining's binary_logloss: 0.530019\tvalid_1's binary_logloss: 0.510432\n",
      "[590]\ttraining's binary_logloss: 0.529992\tvalid_1's binary_logloss: 0.510426\n",
      "Early stopping, best iteration is:\n",
      "[587]\ttraining's binary_logloss: 0.53\tvalid_1's binary_logloss: 0.510424\n"
     ]
    }
   ],
   "source": [
    "from sklearn.preprocessing import LabelEncoder\n",
    "\n",
    "lb_make = LabelEncoder()\n",
    "X[\"prior_question_had_explanation_enc\"] = lb_make.fit_transform(X[\"prior_question_had_explanation\"])\n",
    "X.head()\n",
    "\n",
    "X = X[['answered_correctly_user', 'answered_correctly_content', 'sum','prior_question_elapsed_time','prior_question_had_explanation_enc']] \n",
    "X.fillna(0.5,  inplace=True)\n",
    "from  sklearn.tree import DecisionTreeClassifier\n",
    "from  sklearn.model_selection import train_test_split\n",
    "Xt, Xv, Yt, Yv = train_test_split(X, Y, test_size = 0.01, shuffle=False)\n",
    "\n",
    "import lightgbm as lgb\n",
    "\n",
    "params = {\n",
    "    'objective': 'binary',\n",
    "    'max_bin': 600,\n",
    "    'learning_rate': 0.01,\n",
    "    'num_leaves': 80\n",
    "}\n",
    "\n",
    "\n",
    "lgb_train = lgb.Dataset(Xt, Yt)\n",
    "lgb_eval = lgb.Dataset(Xv, Yv, reference=lgb_train)\n",
    "\n",
    "model = lgb.train(\n",
    "    params, lgb_train,\n",
    "    valid_sets=[lgb_train, lgb_eval],\n",
    "    verbose_eval=10,\n",
    "    num_boost_round=10000,\n",
    "    early_stopping_rounds=10\n",
    ")"
   ]
  },
  {
   "cell_type": "code",
   "execution_count": 5,
   "metadata": {},
   "outputs": [
    {
     "data": {
      "text/plain": [
       "0.7686104658231436"
      ]
     },
     "execution_count": 5,
     "metadata": {},
     "output_type": "execute_result"
    }
   ],
   "source": [
    "y_pred = model.predict(Xv)\n",
    "y_true = np.array(Yv)\n",
    "roc_auc_score(y_true, y_pred)"
   ]
  },
  {
   "cell_type": "code",
   "execution_count": 6,
   "metadata": {},
   "outputs": [],
   "source": [
    "test =  pd.read_csv('../input/riiid-test-answer-prediction/example_test.csv')\n",
    "test[\"prior_question_had_explanation_enc\"] = lb_make.fit_transform(test[\"prior_question_had_explanation\"])\n",
    "test = pd.merge(test, results_u, on=['user_id'],  how=\"left\")\n",
    "test = pd.merge(test, results_c, on=['content_id'],  how=\"left\")\n",
    "test[['answered_correctly_user', 'answered_correctly_content', 'sum','prior_question_elapsed_time','prior_question_had_explanation_enc']]\n",
    "test.fillna(0.5, inplace=True)\n",
    "\n",
    "y_pred = model.predict(test[['answered_correctly_user', 'answered_correctly_content', 'sum','prior_question_elapsed_time','prior_question_had_explanation_enc']])\n",
    "\n",
    "test['answered_correctly'] = y_pred\n",
    "\n",
    "results_c = train[['content_id','answered_correctly']].groupby(['content_id']).agg(['mean'])\n",
    "results_c.columns = [\"answered_correctly_content\"]\n",
    "\n",
    "results_u = train[['user_id','answered_correctly']].groupby(['user_id']).agg(['mean', 'sum'])\n",
    "results_u.columns = [\"answered_correctly_user\", 'sum']"
   ]
  },
  {
   "cell_type": "code",
   "execution_count": 7,
   "metadata": {},
   "outputs": [
    {
     "ename": "ModuleNotFoundError",
     "evalue": "No module named 'riiideducation.competition'",
     "output_type": "error",
     "traceback": [
      "\u001b[0;31m---------------------------------------------------------------------------\u001b[0m",
      "\u001b[0;31mModuleNotFoundError\u001b[0m                       Traceback (most recent call last)",
      "\u001b[0;32m<ipython-input-7-d53e83a32e55>\u001b[0m in \u001b[0;36m<module>\u001b[0;34m\u001b[0m\n\u001b[0;32m----> 1\u001b[0;31m \u001b[0;32mimport\u001b[0m \u001b[0mriiideducation\u001b[0m\u001b[0;34m\u001b[0m\u001b[0;34m\u001b[0m\u001b[0m\n\u001b[0m\u001b[1;32m      2\u001b[0m \u001b[0menv\u001b[0m \u001b[0;34m=\u001b[0m \u001b[0mriiideducation\u001b[0m\u001b[0;34m.\u001b[0m\u001b[0mmake_env\u001b[0m\u001b[0;34m(\u001b[0m\u001b[0;34m)\u001b[0m\u001b[0;34m\u001b[0m\u001b[0;34m\u001b[0m\u001b[0m\n\u001b[1;32m      3\u001b[0m \u001b[0miter_test\u001b[0m \u001b[0;34m=\u001b[0m \u001b[0menv\u001b[0m\u001b[0;34m.\u001b[0m\u001b[0miter_test\u001b[0m\u001b[0;34m(\u001b[0m\u001b[0;34m)\u001b[0m\u001b[0;34m\u001b[0m\u001b[0;34m\u001b[0m\u001b[0m\n\u001b[1;32m      4\u001b[0m \u001b[0;32mfor\u001b[0m \u001b[0;34m(\u001b[0m\u001b[0mtest_df\u001b[0m\u001b[0;34m,\u001b[0m \u001b[0msample_prediction_df\u001b[0m\u001b[0;34m)\u001b[0m \u001b[0;32min\u001b[0m \u001b[0miter_test\u001b[0m\u001b[0;34m:\u001b[0m\u001b[0;34m\u001b[0m\u001b[0;34m\u001b[0m\u001b[0m\n\u001b[1;32m      5\u001b[0m     \u001b[0mtest_df\u001b[0m \u001b[0;34m=\u001b[0m \u001b[0mpd\u001b[0m\u001b[0;34m.\u001b[0m\u001b[0mmerge\u001b[0m\u001b[0;34m(\u001b[0m\u001b[0mtest_df\u001b[0m\u001b[0;34m,\u001b[0m \u001b[0mresults_u\u001b[0m\u001b[0;34m,\u001b[0m \u001b[0mon\u001b[0m\u001b[0;34m=\u001b[0m\u001b[0;34m[\u001b[0m\u001b[0;34m'user_id'\u001b[0m\u001b[0;34m]\u001b[0m\u001b[0;34m,\u001b[0m  \u001b[0mhow\u001b[0m\u001b[0;34m=\u001b[0m\u001b[0;34m\"left\"\u001b[0m\u001b[0;34m)\u001b[0m\u001b[0;34m\u001b[0m\u001b[0;34m\u001b[0m\u001b[0m\n",
      "\u001b[0;32m~/riiid_answer_correctness_prediction/notebook/riiideducation/__init__.py\u001b[0m in \u001b[0;36m<module>\u001b[0;34m\u001b[0m\n\u001b[1;32m      1\u001b[0m \u001b[0;34m\u001b[0m\u001b[0m\n\u001b[0;32m----> 2\u001b[0;31m \u001b[0;32mfrom\u001b[0m \u001b[0;34m.\u001b[0m\u001b[0mcompetition\u001b[0m \u001b[0;32mimport\u001b[0m \u001b[0mmake_env\u001b[0m\u001b[0;34m\u001b[0m\u001b[0;34m\u001b[0m\u001b[0m\n\u001b[0m\u001b[1;32m      3\u001b[0m \u001b[0;34m\u001b[0m\u001b[0m\n\u001b[1;32m      4\u001b[0m \u001b[0m__all__\u001b[0m \u001b[0;34m=\u001b[0m \u001b[0;34m[\u001b[0m\u001b[0;34m'make_env'\u001b[0m\u001b[0;34m]\u001b[0m\u001b[0;34m\u001b[0m\u001b[0;34m\u001b[0m\u001b[0m\n",
      "\u001b[0;31mModuleNotFoundError\u001b[0m: No module named 'riiideducation.competition'"
     ]
    }
   ],
   "source": [
    "import riiideducation\n",
    "env = riiideducation.make_env()\n",
    "iter_test = env.iter_test()\n",
    "for (test_df, sample_prediction_df) in iter_test:\n",
    "    test_df = pd.merge(test_df, results_u, on=['user_id'],  how=\"left\")\n",
    "    test_df = pd.merge(test_df, results_c, on=['content_id'],  how=\"left\")\n",
    "    test_df['answered_correctly_user'].fillna(0.5, inplace=True)\n",
    "    test_df['answered_correctly_content'].fillna(0.5, inplace=True)\n",
    "    test_df['sum'].fillna(0, inplace=True)\n",
    "    test_df['prior_question_had_explanation'].fillna(False, inplace=True)\n",
    "    test_df[\"prior_question_had_explanation_enc\"] = lb_make.fit_transform(test_df[\"prior_question_had_explanation\"])\n",
    "    test_df['answered_correctly'] =  model.predict(test_df[['answered_correctly_user', 'answered_correctly_content', 'sum','prior_question_elapsed_time','prior_question_had_explanation_enc']])\n",
    "    env.predict(test_df.loc[test_df['content_type_id'] == 0, ['row_id', 'answered_correctly']])"
   ]
  }
 ],
 "metadata": {
  "kernelspec": {
   "display_name": "Python 3",
   "language": "python",
   "name": "python3"
  },
  "language_info": {
   "codemirror_mode": {
    "name": "ipython",
    "version": 3
   },
   "file_extension": ".py",
   "mimetype": "text/x-python",
   "name": "python",
   "nbconvert_exporter": "python",
   "pygments_lexer": "ipython3",
   "version": "3.8.5"
  }
 },
 "nbformat": 4,
 "nbformat_minor": 4
}
